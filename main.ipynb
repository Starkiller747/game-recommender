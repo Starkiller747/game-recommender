{
 "cells": [
  {
   "cell_type": "code",
   "execution_count": 1,
   "id": "ba9812d5-18a6-4dee-8d0d-1cd3552c90a8",
   "metadata": {
    "tags": []
   },
   "outputs": [],
   "source": [
    "import numpy as np\n",
    "import pandas as pd\n",
    "from sentence_transformers import SentenceTransformer\n",
    "import sklearn\n",
    "from sklearn import preprocessing\n",
    "from sklearn.feature_extraction.text import CountVectorizer, ENGLISH_STOP_WORDS\n",
    "from sklearn.metrics.pairwise import cosine_similarity\n",
    "# from sklearn.preprocessing import MinMaxScaler\n",
    "import warnings\n",
    "warnings.simplefilter(action='ignore', category=FutureWarning)\n"
   ]
  },
  {
   "cell_type": "code",
   "execution_count": 2,
   "id": "69001973-992c-4c7c-ac54-462bc2a662a4",
   "metadata": {
    "tags": []
   },
   "outputs": [],
   "source": [
    "df = pd.read_csv('/home/javier/Documents/Projects/Steam/archive/steam.csv')"
   ]
  },
  {
   "cell_type": "code",
   "execution_count": 3,
   "id": "3685f321-0c6d-43fe-bb29-de5a1349a604",
   "metadata": {
    "tags": []
   },
   "outputs": [],
   "source": [
    "df1 = df.copy()"
   ]
  },
  {
   "cell_type": "code",
   "execution_count": 4,
   "id": "f7f90c1c-c1d3-4c1e-b98d-d5fe83817576",
   "metadata": {
    "tags": []
   },
   "outputs": [],
   "source": [
    "# drop unnecesary columns\n",
    "df1.drop(columns=['release_date', 'english', 'platforms', 'required_age', 'steamspy_tags'], inplace=True)"
   ]
  },
  {
   "cell_type": "markdown",
   "id": "599ef14e-9216-4851-8dd7-5df93b6ab192",
   "metadata": {
    "tags": []
   },
   "source": [
    "## Data manipulation"
   ]
  },
  {
   "cell_type": "code",
   "execution_count": 10,
   "id": "d325af84-818b-45a9-b567-1fb9c4d7fd14",
   "metadata": {
    "tags": []
   },
   "outputs": [],
   "source": [
    "duplicates = df1[df1.duplicated(subset=['appid'], keep=False)]"
   ]
  },
  {
   "cell_type": "code",
   "execution_count": 11,
   "id": "cc5e10cb-a8d5-4ef2-9dfe-33d437a96915",
   "metadata": {
    "tags": []
   },
   "outputs": [],
   "source": [
    "# Group to aggregate all text rows into one\n",
    "df_aggregated = df1.groupby('appid')['categories'].agg(lambda x: ';'.join(x)).reset_index()"
   ]
  },
  {
   "cell_type": "code",
   "execution_count": 12,
   "id": "ca45b12c-e225-4240-a7b4-2d6c36bf2995",
   "metadata": {
    "tags": []
   },
   "outputs": [],
   "source": [
    "df1.drop_duplicates(subset=['appid'], inplace=True)"
   ]
  },
  {
   "cell_type": "code",
   "execution_count": 13,
   "id": "4b952e59-f00d-44fb-9b3c-a08a7bb569f1",
   "metadata": {
    "tags": []
   },
   "outputs": [],
   "source": [
    "df_merged = pd.merge(df1, df_aggregated, on='appid', how='left', suffixes=('_original', '_aggregated'))"
   ]
  },
  {
   "cell_type": "code",
   "execution_count": 14,
   "id": "1084a9d3-1577-453d-a9d2-fd2000ad8bb5",
   "metadata": {
    "tags": []
   },
   "outputs": [],
   "source": [
    "df_merged['categories_original'] = df_merged['categories_aggregated']"
   ]
  },
  {
   "cell_type": "code",
   "execution_count": 15,
   "id": "9be066a2-2f6f-44e7-974b-f16f74f3cfe9",
   "metadata": {
    "tags": []
   },
   "outputs": [],
   "source": [
    "df_merged = df_merged.drop(columns=['categories_aggregated'])"
   ]
  },
  {
   "cell_type": "code",
   "execution_count": 16,
   "id": "991fb918-46c3-4b63-ae73-06289397977d",
   "metadata": {
    "tags": []
   },
   "outputs": [],
   "source": [
    "df_merged.rename(columns={'categories_original':'categories'}, inplace=True)"
   ]
  },
  {
   "cell_type": "code",
   "execution_count": 17,
   "id": "98bbbb75-809c-46c0-9815-eaf379f41841",
   "metadata": {
    "tags": []
   },
   "outputs": [],
   "source": [
    "df1 = df_merged.copy()"
   ]
  },
  {
   "cell_type": "code",
   "execution_count": 18,
   "id": "52d583ae-2275-4344-88dd-b4422659aaa8",
   "metadata": {
    "tags": []
   },
   "outputs": [],
   "source": [
    "df_desc = pd.read_csv('/home/javier/Documents/Projects/Steam/archive/steam_description_data.csv')"
   ]
  },
  {
   "cell_type": "code",
   "execution_count": 19,
   "id": "a93a2592-7a79-4aa8-b0de-ae256e7b2287",
   "metadata": {
    "tags": []
   },
   "outputs": [],
   "source": [
    "df_desc.rename(columns={'steam_appid':'appid'},inplace=True)"
   ]
  },
  {
   "cell_type": "code",
   "execution_count": 20,
   "id": "f7e3e26e-b6fe-4131-b2d5-3cc4a1404183",
   "metadata": {
    "tags": []
   },
   "outputs": [],
   "source": [
    "final_df = df1.merge(df_desc, on = 'appid', how= 'inner')"
   ]
  },
  {
   "cell_type": "code",
   "execution_count": 21,
   "id": "a8f343dc-c8da-4ea8-970b-328ee99e14ea",
   "metadata": {
    "tags": []
   },
   "outputs": [],
   "source": [
    "df3 = final_df.copy()"
   ]
  },
  {
   "cell_type": "code",
   "execution_count": 22,
   "id": "43f05dfd-0c33-43d9-8801-45555a5c48cc",
   "metadata": {
    "tags": []
   },
   "outputs": [],
   "source": [
    "# string manipulation\n",
    "df3['developer'] = df3['developer'].astype(str)\n",
    "df3['publisher'] = df3['publisher'].astype(str)\n",
    "df3['developer'] = df3['developer'].str.replace(' ', '').str.split(';')\n",
    "df3['publisher'] = df3['publisher'].str.replace(' ', '').str.split(';')\n",
    "df3['owners'] = df3['owners'].apply(lambda x: int(x.split('-')[1]) if '-' in x else int(x))\n",
    "df3['categories'] = df3['categories'].str.split(';')\n",
    "df3['genres'] = df3['genres'].str.split(';')\n",
    "df3['categories'] = df3['categories'].apply(lambda x: [i.replace(' ', '') for i in x])\n",
    "df3['categories'] = df3['categories'].apply(lambda x: [i.replace('-', '') for i in x])\n",
    "df3['detailed_description'] = df3['detailed_description'].apply(lambda x: x.split())\n",
    "df3['about_the_game'] = df3['about_the_game'].apply(lambda x: x.split())\n",
    "df3['short_description'] = df3['short_description'].apply(lambda x: x.split())"
   ]
  },
  {
   "cell_type": "markdown",
   "id": "d43ea131-eda6-40a9-9f1e-f6fa5a4fb609",
   "metadata": {},
   "source": [
    "## Data Normalization"
   ]
  },
  {
   "cell_type": "code",
   "execution_count": 23,
   "id": "4dc41bba-4c39-4892-8cd2-0e6a61345cb9",
   "metadata": {
    "tags": []
   },
   "outputs": [],
   "source": [
    "# will not take into account the ratings as they should be normalized together\n",
    "numerical_columns = ['achievements', 'average_playtime', 'median_playtime', 'owners', 'price']\n",
    "ratings_df = df3[['positive_ratings', 'negative_ratings']]"
   ]
  },
  {
   "cell_type": "code",
   "execution_count": 24,
   "id": "8edc6062-f50a-4e24-be6c-f47a688baf10",
   "metadata": {
    "tags": []
   },
   "outputs": [],
   "source": [
    "# Data scaling\n",
    "min_max_scaler = preprocessing.MinMaxScaler()\n",
    "for column in numerical_columns:\n",
    "    df3[column] = min_max_scaler.fit_transform(df3[[column]])\n",
    "\n",
    "inputs_scaled=min_max_scaler.fit_transform(ratings_df)\n",
    "inputs_n=pd.DataFrame(inputs_scaled,columns=ratings_df.columns)"
   ]
  },
  {
   "cell_type": "code",
   "execution_count": 25,
   "id": "6372e18d-85c6-47ef-849b-0cdbcc67742d",
   "metadata": {
    "tags": []
   },
   "outputs": [],
   "source": [
    "df_merged2 = pd.merge(df3, inputs_n, left_index=True, right_index=True)"
   ]
  },
  {
   "cell_type": "code",
   "execution_count": 26,
   "id": "a423627e-9c98-4e44-95e3-dc8563ba08cd",
   "metadata": {
    "tags": []
   },
   "outputs": [],
   "source": [
    "df_merged2.drop(columns=['positive_ratings_x','negative_ratings_x'], inplace=True)\n",
    "df_merged2.rename(columns={'positive_ratings_y':'positive_ratings', 'negative_ratings_y': 'negative_ratings'}, inplace=True)"
   ]
  },
  {
   "cell_type": "code",
   "execution_count": 27,
   "id": "80409a20-53f6-4d7a-b3b1-400e3d605cd1",
   "metadata": {
    "tags": []
   },
   "outputs": [],
   "source": [
    "# taking only the short description into account as its the only one without the <> characters\n",
    "df_merged2['tags'] = df_merged2['developer'] + df_merged2['publisher'] + df_merged2['categories'] + df_merged2['short_description'] + df_merged2['genres']"
   ]
  },
  {
   "cell_type": "code",
   "execution_count": 28,
   "id": "ae95cb72-2d8b-43c1-8a95-bfc3d4528294",
   "metadata": {
    "tags": []
   },
   "outputs": [],
   "source": [
    "# convert the values from a list to a string but add a space in between while also making it all lowercase\n",
    "df_merged2['tags'] = df_merged2['tags'].apply(lambda x: ' '.join(map(str, x)))\n",
    "df_merged2['tags'] = df_merged2['tags'].apply(lambda x: x.lower())"
   ]
  },
  {
   "cell_type": "code",
   "execution_count": 29,
   "id": "6e4a42bc-c045-4ef8-80ff-e4794528d810",
   "metadata": {
    "tags": []
   },
   "outputs": [],
   "source": [
    "df4 = df_merged2[['appid', 'name', 'tags', 'achievements', 'average_playtime', 'median_playtime', 'owners', 'price']].copy()"
   ]
  },
  {
   "cell_type": "markdown",
   "id": "63e97dca-8aa3-4257-b71a-4d7f4a18a31f",
   "metadata": {},
   "source": [
    "## Getting data ready for vectorization"
   ]
  },
  {
   "cell_type": "code",
   "execution_count": 31,
   "id": "c9a1a49e-fbe4-47df-b308-bad900a037ef",
   "metadata": {
    "tags": []
   },
   "outputs": [],
   "source": [
    "# concatenate numerical columns\n",
    "num_cols = ['achievements', 'average_playtime', 'median_playtime', 'owners', 'price']\n",
    "scaler = preprocessing.MinMaxScaler()\n",
    "numerical_data = scaler.fit_transform(df4[num_cols])"
   ]
  },
  {
   "cell_type": "code",
   "execution_count": 32,
   "id": "b3f0cbec-a734-4056-9845-f7a5b3d69e59",
   "metadata": {
    "tags": []
   },
   "outputs": [],
   "source": [
    "# concatenate text and remove stop words\n",
    "stop_words = ENGLISH_STOP_WORDS\n",
    "text_data = df4['tags'].apply(lambda x: ' '.join([word for word in x.split() if word not in stop_words]))\n",
    "vectorizer = CountVectorizer()\n",
    "text_data = vectorizer.fit_transform(text_data).toarray()"
   ]
  },
  {
   "cell_type": "code",
   "execution_count": 33,
   "id": "0faf8ea7-19a1-4eb9-85c4-30086f76217a",
   "metadata": {
    "tags": []
   },
   "outputs": [],
   "source": [
    "# Finally, the dataframe with all the features normalized and represented as numbers\n",
    "all_features = np.concatenate((numerical_data, text_data), axis=1)"
   ]
  },
  {
   "cell_type": "code",
   "execution_count": 34,
   "id": "53ee4533-77b8-496e-bf12-57ae216f5b1f",
   "metadata": {
    "tags": []
   },
   "outputs": [
    {
     "data": {
      "text/plain": [
       "(27075, 56708)"
      ]
     },
     "execution_count": 34,
     "metadata": {},
     "output_type": "execute_result"
    }
   ],
   "source": [
    "all_features.shape"
   ]
  },
  {
   "cell_type": "code",
   "execution_count": 35,
   "id": "0b23311f-350b-4706-a5bc-4fb8567f8723",
   "metadata": {
    "tags": []
   },
   "outputs": [],
   "source": [
    "# longest step, takes a while due to the amount of values. Could be improved\n",
    "similarity = cosine_similarity(all_features)"
   ]
  },
  {
   "cell_type": "code",
   "execution_count": 36,
   "id": "9a7c864b-4616-40d6-b042-1d33ce921944",
   "metadata": {
    "tags": []
   },
   "outputs": [],
   "source": [
    "def recommend(game, top_n=5):\n",
    "    index = df4.index[df4['name'] == game].tolist()[0]\n",
    "    similar_games = sorted(enumerate(similarity[index]), key=lambda x: x[1], reverse=True)[1:top_n+1]\n",
    "\n",
    "    recommended_games = [df4['name'][i[0]] for i in similar_games]\n",
    "    return recommended_games"
   ]
  },
  {
   "cell_type": "code",
   "execution_count": 38,
   "id": "b2eb1751-408a-4715-b429-fe803f351c52",
   "metadata": {
    "tags": []
   },
   "outputs": [
    {
     "name": "stdout",
     "output_type": "stream",
     "text": [
      "Recommended games for Team Fortress 2:\n",
      "Day of Defeat: Source\n",
      "Counter-Strike: Source\n",
      "Counter-Strike: Global Offensive\n",
      "Alien Swarm\n",
      "Portal\n"
     ]
    }
   ],
   "source": [
    "game_to_recommend = \"Team Fortress 2\"\n",
    "recommended_games = recommend(game_to_recommend)\n",
    "\n",
    "print(f\"Recommended games for {game_to_recommend}:\")\n",
    "for game in recommended_games:\n",
    "    print(game)"
   ]
  },
  {
   "cell_type": "code",
   "execution_count": null,
   "id": "3f30ba01-0fb4-40d7-88dc-71162ea4bd69",
   "metadata": {},
   "outputs": [],
   "source": []
  }
 ],
 "metadata": {
  "kernelspec": {
   "display_name": "Python 3 (ipykernel)",
   "language": "python",
   "name": "python3"
  },
  "language_info": {
   "codemirror_mode": {
    "name": "ipython",
    "version": 3
   },
   "file_extension": ".py",
   "mimetype": "text/x-python",
   "name": "python",
   "nbconvert_exporter": "python",
   "pygments_lexer": "ipython3",
   "version": "3.11.5"
  }
 },
 "nbformat": 4,
 "nbformat_minor": 5
}
